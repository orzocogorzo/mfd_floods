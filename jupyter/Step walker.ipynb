{
 "cells": [
  {
   "cell_type": "code",
   "execution_count": 1359,
   "id": "8f7792f2",
   "metadata": {},
   "outputs": [],
   "source": [
    "# Imports\n",
    "import numpy as np\n",
    "import math\n",
    "import matplotlib.pyplot as plt"
   ]
  },
  {
   "cell_type": "code",
   "execution_count": 1360,
   "id": "74042c33",
   "metadata": {},
   "outputs": [],
   "source": [
    "# Constants\n",
    "NAN = -999\n",
    "CONVERGENCE_F = 2\n",
    "TRAWL_F = 2\n",
    "DELTAS = np.array([\n",
    "    (-1, -1), (-1, 0), (-1, +1),\n",
    "    (0, -1),           (0, +1),\n",
    "    (+1, -1), (+1, 0), (+1, +1)\n",
    "])"
   ]
  },
  {
   "cell_type": "code",
   "execution_count": 1361,
   "id": "fae0d90a",
   "metadata": {},
   "outputs": [],
   "source": [
    "# Methods\n",
    "def get_deltas(rc):\n",
    "    return np.array([\n",
    "        delta for delta in rc + DELTAS\n",
    "        if tuple(delta) not in overcomes\n",
    "    ])\n",
    "\n",
    "def get_draft(flood):\n",
    "    return flood / cellarea\n",
    "\n",
    "def get_slopes(rc, src_draft=None):\n",
    "    if src_draft is None:\n",
    "        src_draft = drafts[rc]\n",
    "        \n",
    "    return np.array([\n",
    "        (float(dtm[tuple(delta)]) + float(drafts[tuple(delta)])) - (dtm[rc] + src_draft)\n",
    "        for delta in get_deltas(rc)\n",
    "    ])\n",
    "\n",
    "def get_slope(slopes):\n",
    "    try:\n",
    "        slopes = np.append(slopes, 0)\n",
    "        return slopes.min() - slopes.max()\n",
    "    except Exception:\n",
    "        return 0\n",
    "\n",
    "def get_volumetries(slopes):\n",
    "    return cellarea * 0.25 * slopes * (1 / 3)\n",
    "\n",
    "def get_downslopes(slopes):\n",
    "    return np.where(slopes < 0, slopes * -1, 0)\n",
    "\n",
    "def get_upslopes(slopes):\n",
    "    return np.where(slopes >= 0, slopes, 0)\n",
    "\n",
    "def get_speeds(slopes, draft, manning):\n",
    "    return np.array([get_speed(draft, manning, slope) for slope in slopes])\n",
    "\n",
    "def get_speed(draft, manning, slope):\n",
    "    return max(0, (1. / manning) * math.pow(cellsize + 2 * draft, 2 / 3) * math.pow(max(0, (-1 * slope)) / cellsize, .5))\n",
    "\n",
    "def del_key(key, handle):\n",
    "    try:\n",
    "        del handle[key]\n",
    "    except KeyError:\n",
    "        pass"
   ]
  },
  {
   "cell_type": "markdown",
   "id": "7670afd0",
   "metadata": {},
   "source": [
    "## Start of the startup phase"
   ]
  },
  {
   "cell_type": "code",
   "execution_count": 1362,
   "id": "5eab581e",
   "metadata": {},
   "outputs": [
    {
     "data": {
      "image/png": "[encoded data removed]",
      "text/plain": [
       "<Figure size 1000x1000 with 2 Axes>"
      ]
     },
     "metadata": {},
     "output_type": "display_data"
    }
   ],
   "source": [
    "cellsize = 4.99552722558326\n",
    "cellarea = math.pow(cellsize, 2)\n",
    "dtm = np.array([[193.28, 193.28, 191.87, 190.1 , 188.51, 187.5 , 186.9 , 186.44,\n",
    "          186.26, 186.23, 185.82, 185.82, 185.47, 185.52, 185.51, 185.84,\n",
    "          185.92, 185.57, 185.53, 185.53],\n",
    "         [194.27, 194.27, 193.85, 192.64, 188.51, 187.73, 186.72, 186.46,\n",
    "          186.3 , 186.22, 186.22, 186.13, 185.95, 185.76, 185.91, 186.08,\n",
    "          186.26, 186.31, 186.31, 186.02],\n",
    "         [194.01, 194.01, 194.36, 192.64, 191.26, 189.28, 186.66, 186.6 ,\n",
    "          186.33, 186.18, 186.18, 186.13, 186.29, 186.17, 186.2 , 186.28,\n",
    "          186.32, 186.55, 186.55, 186.37],\n",
    "         [193.27, 193.27, 194.36, 194.27, 193.4 , 191.75, 187.83, 186.7 ,\n",
    "          186.41, 186.33, 186.33, 186.34, 186.56, 186.62, 186.72, 186.55,\n",
    "          186.45, 186.6 , 186.6 , 186.42],\n",
    "         [193.27, 193.27, 193.48, 194.32, 194.32, 193.79, 190.35, 187.97,\n",
    "          186.77, 186.47, 186.59, 186.59, 186.72, 186.87, 187.09, 187.09,\n",
    "          186.89, 187.05, 187.05, 186.58],\n",
    "         [193.27, 193.27, 193.27, 193.27, 194.18, 194.42, 192.61, 190.78,\n",
    "          188.68, 187.08, 186.93, 186.9 , 187.03, 187.19, 187.18, 187.32,\n",
    "          187.46, 187.26, 187.26, 186.94],\n",
    "         [193.27, 193.27, 193.27, 193.27, 193.27, 193.69, 194.16, 192.74,\n",
    "          190.77, 188.35, 187.47, 187.4 , 187.42, 187.33, 187.31, 187.4 ,\n",
    "          187.59, 187.59, 187.29, 187.25],\n",
    "         [193.27, 193.27, 193.27, 193.27, 193.27, 193.27, 193.77, 193.33,\n",
    "          193.33, 190.65, 188.19, 187.99, 188.4 , 188.4 , 188.29, 188.07,\n",
    "          187.73, 187.73, 187.64, 187.61],\n",
    "         [193.27, 193.27, 193.27, 193.27, 193.27, 193.27, 194.37, 193.82,\n",
    "          193.82, 191.18, 188.53, 188.21, 188.67, 188.81, 188.71, 188.48,\n",
    "          188.07, 188.07, 187.82, 187.76],\n",
    "         [193.27, 193.27, 193.27, 193.27, 193.27, 193.27, 194.37, 194.24,\n",
    "          194.24, 191.43, 188.67, 188.61, 189.14, 188.89, 188.75, 188.76,\n",
    "          188.58, 188.58, 187.93, 187.85],\n",
    "         [193.27, 193.27, 193.27, 193.27, 193.27, 193.27, 194.5 , 194.5 ,\n",
    "          194.24, 191.25, 189.34, 189.2 , 189.25, 189.12, 188.96, 188.81,\n",
    "          188.81, 188.79, 187.99, 187.83],\n",
    "         [193.27, 193.27, 193.27, 193.27, 193.27, 193.27, 194.47, 194.47,\n",
    "          193.84, 191.25, 189.34, 189.2 , 189.29, 189.25, 189.12, 188.89,\n",
    "          188.89, 188.77, 188.16, 187.8 ],\n",
    "         [193.27, 193.27, 193.27, 193.27, 193.27, 193.92, 194.46, 194.46,\n",
    "          193.25, 190.97, 189.43, 189.2 , 189.29, 189.25, 189.26, 189.04,\n",
    "          189.04, 188.83, 188.41, 187.85],\n",
    "         [193.27, 193.27, 193.27, 193.27, 193.27, 194.43, 194.22, 194.22,\n",
    "          192.32, 190.16, 189.74, 189.7 , 189.44, 189.33, 189.26, 189.04,\n",
    "          189.04, 188.91, 188.44, 188.08],\n",
    "         [193.27, 193.27, 193.27, 193.27, 193.27, 194.28, 194.28, 192.87,\n",
    "          191.05, 190.02, 189.83, 189.8 , 189.68, 189.49, 189.34, 189.34,\n",
    "          189.19, 188.91, 188.44, 188.17],\n",
    "         [193.27, 193.27, 193.27, 193.27, 194.16, 193.05, 193.05, 191.54,\n",
    "          190.33, 190.01, 189.94, 189.8 , 189.84, 189.8 , 189.32, 189.32,\n",
    "          189.21, 188.86, 188.39, 188.17],\n",
    "         [193.27, 193.27, 193.27, 194.14, 194.26, 191.58, 191.58, 190.98,\n",
    "          190.59, 190.19, 190.06, 189.99, 189.79, 189.75, 189.34, 189.34,\n",
    "          189.2 , 188.89, 188.4 , 188.13],\n",
    "         [193.27, 193.27, 194.29, 194.34, 193.33, 190.8 , 190.8 , 190.73,\n",
    "          190.66, 190.55, 190.1 , 190.13, 189.86, 189.78, 189.58, 189.58,\n",
    "          189.15, 188.99, 188.33, 188.16],\n",
    "         [193.27, 194.11, 194.3 , 193.4 , 192.01, 191.01, 191.01, 190.84,\n",
    "          190.78, 190.75, 190.31, 190.18, 190.12, 189.79, 189.79, 189.79,\n",
    "          189.09, 189.03, 188.34, 188.25],\n",
    "         [194.29, 193.64, 192.51, 192.14, 191.74, 191.74, 191.63, 191.37,\n",
    "          191.09, 190.94, 190.72, 190.35, 190.29, 189.81, 189.81, 189.58,\n",
    "          189.69, 188.93, 188.73, 188.4 ]])\n",
    "plt.figure(figsize=(10, 10))\n",
    "plt.imshow(dtm)\n",
    "plt.colorbar()\n",
    "mannings = np.array([[0.12, 0.12, 0.12, 0.12, 0.12, 0.12, 0.05, 0.05, 0.05, 0.05, 0.05,\n",
    "        0.05, 0.05, 0.05, 0.05, 0.05, 0.05, 0.05, 0.05, 0.05],\n",
    "       [0.12, 0.12, 0.12, 0.12, 0.12, 0.12, 0.05, 0.05, 0.05, 0.05, 0.05,\n",
    "        0.05, 0.05, 0.05, 0.05, 0.05, 0.05, 0.05, 0.05, 0.05],\n",
    "       [0.12, 0.12, 0.12, 0.12, 0.12, 0.12, 0.05, 0.05, 0.05, 0.05, 0.05,\n",
    "        0.05, 0.05, 0.05, 0.05, 0.05, 0.05, 0.05, 0.05, 0.05],\n",
    "       [0.04, 0.04, 0.12, 0.12, 0.12, 0.12, 0.12, 0.05, 0.05, 0.05, 0.05,\n",
    "        0.05, 0.05, 0.05, 0.05, 0.05, 0.05, 0.05, 0.05, 0.05],\n",
    "       [0.04, 0.04, 0.04, 0.12, 0.12, 0.12, 0.12, 0.12, 0.12, 0.05, 0.05,\n",
    "        0.05, 0.05, 0.05, 0.05, 0.05, 0.05, 0.05, 0.05, 0.05],\n",
    "       [0.04, 0.04, 0.04, 0.04, 0.12, 0.12, 0.12, 0.12, 0.12, 0.12, 0.05,\n",
    "        0.05, 0.05, 0.05, 0.05, 0.05, 0.05, 0.05, 0.05, 0.05],\n",
    "       [0.04, 0.04, 0.04, 0.04, 0.04, 0.04, 0.12, 0.12, 0.12, 0.12, 0.05,\n",
    "        0.05, 0.05, 0.05, 0.05, 0.05, 0.05, 0.05, 0.05, 0.05],\n",
    "       [0.04, 0.04, 0.04, 0.04, 0.04, 0.04, 0.04, 0.12, 0.12, 0.12, 0.12,\n",
    "        0.05, 0.05, 0.05, 0.05, 0.05, 0.05, 0.05, 0.05, 0.05],\n",
    "       [0.04, 0.04, 0.04, 0.04, 0.04, 0.04, 0.04, 0.04, 0.12, 0.12, 0.12,\n",
    "        0.05, 0.05, 0.05, 0.05, 0.05, 0.05, 0.05, 0.05, 0.05],\n",
    "       [0.04, 0.04, 0.04, 0.04, 0.04, 0.04, 0.04, 0.04, 0.12, 0.12, 0.12,\n",
    "        0.05, 0.05, 0.05, 0.05, 0.05, 0.05, 0.05, 0.05, 0.05],\n",
    "       [0.04, 0.04, 0.04, 0.04, 0.04, 0.04, 0.04, 0.04, 0.05, 0.05, 0.05,\n",
    "        0.05, 0.05, 0.05, 0.05, 0.05, 0.05, 0.05, 0.05, 0.05],\n",
    "       [0.04, 0.04, 0.04, 0.04, 0.04, 0.04, 0.04, 0.04, 0.05, 0.05, 0.05,\n",
    "        0.05, 0.05, 0.05, 0.05, 0.05, 0.05, 0.05, 0.05, 0.05],\n",
    "       [0.04, 0.04, 0.04, 0.04, 0.04, 0.04, 0.04, 0.04, 0.05, 0.05, 0.05,\n",
    "        0.05, 0.05, 0.05, 0.05, 0.05, 0.05, 0.05, 0.05, 0.05],\n",
    "       [0.04, 0.04, 0.04, 0.04, 0.04, 0.04, 0.04, 0.05, 0.05, 0.05, 0.05,\n",
    "        0.05, 0.05, 0.05, 0.05, 0.05, 0.05, 0.05, 0.05, 0.05],\n",
    "       [0.04, 0.04, 0.04, 0.04, 0.04, 0.04, 0.05, 0.05, 0.05, 0.05, 0.05,\n",
    "        0.05, 0.05, 0.05, 0.05, 0.05, 0.05, 0.05, 0.05, 0.05],\n",
    "       [0.04, 0.04, 0.04, 0.04, 0.04, 0.05, 0.05, 0.05, 0.05, 0.05, 0.05,\n",
    "        0.05, 0.05, 0.05, 0.05, 0.05, 0.05, 0.05, 0.05, 0.05],\n",
    "       [0.04, 0.04, 0.04, 0.04, 0.05, 0.05, 0.05, 0.05, 0.05, 0.05, 0.05,\n",
    "        0.05, 0.05, 0.05, 0.05, 0.05, 0.05, 0.05, 0.05, 0.05],\n",
    "       [0.04, 0.04, 0.04, 0.04, 0.05, 0.05, 0.05, 0.05, 0.05, 0.05, 0.05,\n",
    "        0.05, 0.05, 0.05, 0.05, 0.05, 0.05, 0.05, 0.05, 0.05],\n",
    "       [0.04, 0.04, 0.04, 0.05, 0.05, 0.05, 0.05, 0.05, 0.05, 0.05, 0.05,\n",
    "        0.05, 0.05, 0.05, 0.05, 0.05, 0.05, 0.05, 0.05, 0.05],\n",
    "       [0.04, 0.04, 0.05, 0.05, 0.05, 0.05, 0.05, 0.05, 0.05, 0.05, 0.05,\n",
    "        0.05, 0.05, 0.05, 0.05, 0.05, 0.05, 0.05, 0.05, 0.05]])\n",
    "\n",
    "floods = np.zeros(dtm.shape)\n",
    "drafts = np.zeros(dtm.shape)\n",
    "speeds = np.zeros(dtm.shape)\n",
    "drainages = np.zeros(dtm.shape)\n",
    "\n",
    "overcomes = {\n",
    "    (9, 8): True, (9, 9): True,\n",
    "    (10, 8): True, (10, 9): True, (10, 10): True,\n",
    "    (11, 8): True, (11, 9): True, (11, 10): True\n",
    "}\n",
    "source = (10, 9)\n",
    "start = (9, 10)\n",
    "slopes = get_slopes(start)\n",
    "gateway = np.where(slopes != NAN, slopes, 0).argmin()\n",
    "slope = slopes[gateway]\n",
    "flood = 25\n",
    "flood_factor = 1"
   ]
  },
  {
   "cell_type": "code",
   "execution_count": 1363,
   "id": "dd60fbf7",
   "metadata": {},
   "outputs": [],
   "source": [
    "floods[start] = flood\n",
    "drafts[start] = get_draft(flood)\n",
    "speeds[start] = get_speed(drafts[start], mannings[start], slope = get_slope(get_slopes(rc)))\n",
    "rcs = {start: True}"
   ]
  },
  {
   "cell_type": "markdown",
   "id": "9000d464",
   "metadata": {},
   "source": [
    "## End of startup phase"
   ]
  },
  {
   "cell_type": "markdown",
   "id": "94f959cc",
   "metadata": {},
   "source": [
    "## Step start\n",
    "Each step is a second on the output hydrogram"
   ]
  },
  {
   "cell_type": "code",
   "execution_count": 1590,
   "id": "159d70f9",
   "metadata": {},
   "outputs": [],
   "source": [
    "flood_factor = 1\n",
    "next_step = {}\n",
    "catchments = {}\n",
    "level = 1\n",
    "queue = []\n",
    "visiteds = {}"
   ]
  },
  {
   "cell_type": "markdown",
   "id": "2441676d",
   "metadata": {},
   "source": [
    "## Level start\n",
    "For each step, run multiple levels of recursivity based on the reached cells"
   ]
  },
  {
   "cell_type": "code",
   "execution_count": 1591,
   "id": "ae59e1d0",
   "metadata": {},
   "outputs": [],
   "source": [
    "reacheds = {}"
   ]
  },
  {
   "cell_type": "markdown",
   "id": "e48f0fc6",
   "metadata": {},
   "source": [
    "## Loop start"
   ]
  },
  {
   "cell_type": "code",
   "execution_count": 1584,
   "id": "184427d2",
   "metadata": {
    "scrolled": true
   },
   "outputs": [
    {
     "name": "stdout",
     "output_type": "stream",
     "text": [
      "\u001b[1mStep is empty. Go to recursivity cell\u001b[0m\n"
     ]
    }
   ],
   "source": [
    "try:\n",
    "    rc = list(rcs.keys())[0]\n",
    "    del rcs[rc]\n",
    "    print(\"Level: \", level)\n",
    "    print(\"Current Row/Column: \", rc)\n",
    "except IndexError:\n",
    "    print(\"\\033[1mStep is empty. Go to recursivity cell\\033[0m\")"
   ]
  },
  {
   "cell_type": "markdown",
   "id": "f53ebde7",
   "metadata": {},
   "source": [
    "* [Go to loop end](#Loop-end)\n",
    "* [Go to recursivity cell](#Recursivity-calls)"
   ]
  },
  {
   "cell_type": "code",
   "execution_count": 1576,
   "id": "9170f2f1",
   "metadata": {},
   "outputs": [
    {
     "name": "stdout",
     "output_type": "stream",
     "text": [
      "Flood:  0.10157302772954484\n",
      "Speed:  30.891467875030166\n",
      "Draft:  0.004070199886461364\n",
      "Slope:  -1.392559706453227\n"
     ]
    }
   ],
   "source": [
    "src_deltas = get_deltas(rc)\n",
    "src_flood = max(0, floods[rc] + catchments.get(rc, 0))\n",
    "src_draft = get_draft(src_flood)\n",
    "src_slopes = get_slopes(rc, src_draft)\n",
    "src_slope = get_slope(src_slopes)\n",
    "src_speed = get_speed(src_draft, mannings[rc], src_slope)\n",
    "\n",
    "if len(src_deltas) == 0:\n",
    "    print(\"\\033[1mNot drived flood. Continue with the loop\\033[0m\")\n",
    "else:\n",
    "    print(\"Flood: \", src_flood)\n",
    "    print(\"Speed: \", src_speed)\n",
    "    print(\"Draft: \", src_draft)\n",
    "    print(\"Slope: \", src_slope)"
   ]
  },
  {
   "cell_type": "code",
   "execution_count": 1577,
   "id": "8c017751",
   "metadata": {},
   "outputs": [],
   "source": [
    "if src_speed / level / cellsize < 1:\n",
    "    # if level == 1:\n",
    "    # catchments[rc] = catchments.get(rc, 0) * flood_factor\n",
    "    # floods[rc] = src_flood + catchments[rc]\n",
    "    # drafts[rc] = get_draft(floods[rc])\n",
    "    # slope = get_slope(get_slopes(rc))\n",
    "    # speeds[rc] = get_speed(drafts[rc], mannings[rc], slope)\n",
    "    \n",
    "    next_step[rc] = True\n",
    "    drainages[rc] += 1\n",
    "    print(\"\\033[1mNot drived flood. Continue with the loop\\033[0m\")"
   ]
  },
  {
   "cell_type": "markdown",
   "id": "574daf5f",
   "metadata": {},
   "source": [
    "[Go to next iteration](#Level-start)"
   ]
  },
  {
   "cell_type": "code",
   "execution_count": 1578,
   "id": "9061516b",
   "metadata": {},
   "outputs": [],
   "source": [
    "downslopes = get_downslopes(src_slopes)\n",
    "upslopes = get_upslopes(src_slopes)\n",
    "under_volume = get_volumetries(downslopes)\n",
    "over_volume = get_volumetries(upslopes)\n",
    "\n",
    "if downslopes.sum() == 0:\n",
    "    over_flood = max(0, src_flood - over_volume.min() * 8)\n",
    "    drived_flood = 0\n",
    "    if over_flood == 0:\n",
    "        # if level == 1:\n",
    "        # catchments[rc] = catchments.get(rc, 0) * flood_factor\n",
    "        # floods[rc] = src_flood + catchments[rc]\n",
    "        # drafts[rc] = get_draft(floods[rc])\n",
    "        # slope = get_slope(get_slopes(rc))\n",
    "        # speeds[rc] = get_speed(drafts[rc], mannings[rc], slope)\n",
    "            \n",
    "        next_step[rc] = True\n",
    "        drainages[rc] += 1\n",
    "        print(\"\\033[1mNot drived flood. Continue with the loop\\033[0m\")\n",
    "else:\n",
    "    drived_flood = min(src_flood, under_volume.sum())\n",
    "    over_flood = src_flood - drived_flood"
   ]
  },
  {
   "cell_type": "markdown",
   "id": "9f4b753f",
   "metadata": {},
   "source": [
    "[Go to next iteration](#Level-start)"
   ]
  },
  {
   "cell_type": "code",
   "execution_count": 1579,
   "id": "04fa62af",
   "metadata": {},
   "outputs": [],
   "source": [
    "visiteds[rc] = True"
   ]
  },
  {
   "cell_type": "code",
   "execution_count": 1580,
   "id": "b9a48b5a",
   "metadata": {},
   "outputs": [
    {
     "name": "stdout",
     "output_type": "stream",
     "text": [
      "Floods:  [0.04875901 0.02349513 0.02535152 0.         0.         0.\n",
      " 0.         0.        ]\n",
      "Speeds:  [14.23794498  9.88345583 10.26648693  0.          4.06135994  0.\n",
      "  0.          0.        ]\n"
     ]
    }
   ],
   "source": [
    "over_catchments = np.where(src_flood > over_volume * 8, src_flood - over_volume * 8, 0)\n",
    "over_floods = over_catchments / over_catchments.sum() * over_flood if over_catchments.sum() else np.zeros((len(src_deltas),))\n",
    "over_floods = np.where(over_floods > 1e-2, over_floods, 0)\n",
    "drived_floods = downslopes / downslopes.sum() * drived_flood if downslopes.sum() else np.zeros((len(src_deltas),))\n",
    "drived_floods = np.where(drived_floods > 1e-2, drived_floods, 0)\n",
    "src_floods = over_floods + drived_floods\n",
    "src_speeds = get_speeds(src_slopes, drafts[rc], mannings[rc])\n",
    "src_acum_flood = src_floods.sum()\n",
    "powered_flood = (src_floods ** CONVERGENCE_F).sum()\n",
    "powered_speed = (src_speeds ** TRAWL_F).sum()\n",
    "print(\"Floods: \", src_floods)\n",
    "print(\"Speeds: \", src_speeds)"
   ]
  },
  {
   "cell_type": "code",
   "execution_count": 1581,
   "id": "4ee53031",
   "metadata": {},
   "outputs": [],
   "source": [
    "if src_floods.sum() == 0:\n",
    "    if level == 1:\n",
    "        next_step[rc] = True\n",
    "        print(\"\\033[1mNot drived flood. Continue with the loop\\033[0m\")\n",
    "elif level == 1:\n",
    "    overcomes[rc] = True\n",
    "    del_key(rc, next_step)"
   ]
  },
  {
   "cell_type": "markdown",
   "id": "7d881506",
   "metadata": {},
   "source": [
    "## Start deltas catchment loop"
   ]
  },
  {
   "cell_type": "code",
   "execution_count": 1582,
   "id": "28ddbe2e",
   "metadata": {},
   "outputs": [],
   "source": [
    "for i, (flood, speed) in enumerate(zip(src_floods, src_speeds)):\n",
    "    new_rc = tuple(src_deltas[i])\n",
    "    speeds[new_rc] = max(speeds[new_rc], speed)\n",
    "    if flood > 0 and speed > 0:\n",
    "        flood = ((flood ** CONVERGENCE_F / powered_flood + speed ** TRAWL_F / powered_speed) / 2 * src_acum_flood) / level\n",
    "        catchments[new_rc] = catchments.get(new_rc, 0) + flood\n",
    "        catchments[rc] = catchments.get(rc, 0) - flood\n",
    "        \n",
    "    drafts[new_rc] = get_draft(floods[new_rc] + catchments.get(new_rc, 0))\n",
    "    \n",
    "    if speeds[new_rc] / level / cellsize < 1:\n",
    "        del_key(new_rc, reacheds)\n",
    "        if drainages[new_rc] < 5e+1:\n",
    "            next_step[new_rc] = True\n",
    "        elif level == 1:\n",
    "            overcomes[new_rc] = True\n",
    "            del_key(new_rc, next_step)\n",
    "    elif new_rc not in visiteds:\n",
    "        reacheds[new_rc] = True\n",
    "        del_key(new_rc, next_step)"
   ]
  },
  {
   "cell_type": "markdown",
   "id": "97097b3d",
   "metadata": {},
   "source": [
    "## End deltas catchment loop\n",
    "If there are values on the `rcs`, go back to the "
   ]
  },
  {
   "cell_type": "code",
   "execution_count": 1583,
   "id": "3690a11d",
   "metadata": {
    "scrolled": false
   },
   "outputs": [
    {
     "data": {
      "text/plain": [
       "<matplotlib.colorbar.Colorbar at 0x7f22df61e590>"
      ]
     },
     "execution_count": 1583,
     "metadata": {},
     "output_type": "execute_result"
    },
    {
     "data": {
      "image/png": "[encoded data removed]",
      "text/plain": [
       "<Figure size 1000x1000 with 2 Axes>"
      ]
     },
     "metadata": {},
     "output_type": "display_data"
    }
   ],
   "source": [
    "tmp_floods = np.copy(floods)\n",
    "for rc in catchments:\n",
    "    catchment = max(0, catchments[rc]) * flood_factor\n",
    "    tmp_floods[rc] += catchment\n",
    "    \n",
    "plt.figure(figsize=(10, 10))\n",
    "plt.imshow(tmp_floods)\n",
    "plt.colorbar()"
   ]
  },
  {
   "cell_type": "markdown",
   "id": "1d467e34",
   "metadata": {},
   "source": [
    "[Go next iteration](#Loop-start)"
   ]
  },
  {
   "cell_type": "markdown",
   "id": "b0784135",
   "metadata": {},
   "source": [
    "## Loop end"
   ]
  },
  {
   "cell_type": "code",
   "execution_count": 1585,
   "id": "9f3087fa",
   "metadata": {},
   "outputs": [
    {
     "name": "stdout",
     "output_type": "stream",
     "text": [
      "Level row/columns:  {}\n",
      "\u001b[1mContinue to the recursivity cell\u001b[0m\n"
     ]
    }
   ],
   "source": [
    "if len(reacheds) > 0:    \n",
    "    queue.append((reacheds, catchments, level + 1, visiteds))\n",
    "    \n",
    "print(\"Level row/columns: \", rcs)\n",
    "if len(rcs):\n",
    "    print(\"\\033[1mStep forward on loop\\033[0m\")\n",
    "else:\n",
    "    print(\"\\033[1mContinue to the recursivity cell\\033[0m\")"
   ]
  },
  {
   "cell_type": "markdown",
   "id": "af4b9709",
   "metadata": {},
   "source": [
    "## Recursivity calls\n",
    "After that point, `rcs` are reassigned to the next round of cells. If there are reached cells, then go back to the `step start` cell"
   ]
  },
  {
   "cell_type": "code",
   "execution_count": 1586,
   "id": "b34e5ac3",
   "metadata": {
    "scrolled": true
   },
   "outputs": [
    {
     "name": "stdout",
     "output_type": "stream",
     "text": [
      "\u001b[1mGo to next step\u001b[0m\n",
      "{(8, 9): True, (7, 9): True, (10, 11): True, (10, 12): True, (11, 12): True, (7, 12): True, (8, 10): True, (8, 12): True, (9, 12): True, (6, 9): True, (7, 13): True, (9, 13): True, (10, 13): True, (11, 11): True, (5, 9): True, (5, 10): True, (7, 10): True, (5, 12): True, (5, 13): True, (5, 14): True, (6, 14): True, (7, 14): True, (8, 14): True, (9, 14): True, (4, 10): True, (4, 11): True, (4, 12): True, (6, 10): True, (5, 11): True, (7, 11): True}\n"
     ]
    }
   ],
   "source": [
    "if len(queue):\n",
    "    rcs, catchments, level, visiteds = queue.pop(0)\n",
    "    print(\"\\033[1mGo to next level %s\\033[0m\" % level)\n",
    "else:\n",
    "    rcs = next_step\n",
    "    level = 1\n",
    "    for rc in catchments:\n",
    "        catchment = max(0, catchments[rc]) * flood_factor\n",
    "        floods[rc] += catchment\n",
    "        drafts[rc] = get_draft(catchment)\n",
    "        slope = get_slope(get_slopes(rc))\n",
    "        speeds[rc] = get_speed(drafts[rc], mannings[rc], slope)\n",
    "    print(\"\\033[1mGo to next step\\033[0m\")\n",
    "print(rcs)"
   ]
  },
  {
   "cell_type": "markdown",
   "id": "04b437d1",
   "metadata": {},
   "source": [
    "· [Go to next step](#Step-start)\n",
    "· [Go next level](#Level-start)"
   ]
  },
  {
   "cell_type": "code",
   "execution_count": 1587,
   "id": "db6dd63a",
   "metadata": {
    "scrolled": false
   },
   "outputs": [
    {
     "data": {
      "text/plain": [
       "<matplotlib.colorbar.Colorbar at 0x7f22e0f61fc0>"
      ]
     },
     "execution_count": 1587,
     "metadata": {},
     "output_type": "execute_result"
    },
    {
     "data": {
      "image/png": "[encoded data removed]",
      "text/plain": [
       "<Figure size 1000x1000 with 2 Axes>"
      ]
     },
     "metadata": {},
     "output_type": "display_data"
    }
   ],
   "source": [
    "plt.figure(figsize=(10, 10))\n",
    "plt.imshow(floods)\n",
    "plt.colorbar()"
   ]
  },
  {
   "cell_type": "code",
   "execution_count": 1592,
   "id": "36d3b328",
   "metadata": {},
   "outputs": [
    {
     "data": {
      "text/plain": [
       "{}"
      ]
     },
     "execution_count": 1592,
     "metadata": {},
     "output_type": "execute_result"
    }
   ],
   "source": [
    "catchments"
   ]
  }
 ],
 "metadata": {
  "kernelspec": {
   "display_name": "Python 3 (ipykernel)",
   "language": "python",
   "name": "python3"
  },
  "language_info": {
   "codemirror_mode": {
    "name": "ipython",
    "version": 3
   },
   "file_extension": ".py",
   "mimetype": "text/x-python",
   "name": "python",
   "nbconvert_exporter": "python",
   "pygments_lexer": "ipython3",
   "version": "3.10.7"
  }
 },
 "nbformat": 4,
 "nbformat_minor": 5
}
